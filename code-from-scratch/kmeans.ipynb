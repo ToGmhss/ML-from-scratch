{
  "cells": [
    {
      "cell_type": "code",
      "execution_count": 1,
      "metadata": {
        "id": "cIp4S4mwk1Zv"
      },
      "outputs": [],
      "source": [
        "import numpy as np\n",
        "import matplotlib.pyplot as plt\n",
        "# import pandas as pd\n",
        "# import numpy as np\n",
        "# import matplotlib.pyplot as plt\n",
        "# from sklearn.decomposition import PCA\n",
        "from sklearn.datasets import fetch_openml\n",
        "\n",
        "# Load the MNIST dataset, False makes it return the data as a NumPy array\n",
        "mnist = fetch_openml('mnist_784', version=1, as_frame=False)"
      ]
    },
    {
      "cell_type": "code",
      "execution_count": 2,
      "metadata": {},
      "outputs": [
        {
          "data": {
            "text/plain": [
              "((5000, 784), (5000,))"
            ]
          },
          "execution_count": 2,
          "metadata": {},
          "output_type": "execute_result"
        }
      ],
      "source": [
        "X, y = mnist['data'], mnist['target']\n",
        "\n",
        "# Convert labels to integer for easier processing\n",
        "y = y.astype(int)\n",
        "\n",
        "# Initialize an empty array to hold the filtered dataset\n",
        "filtered_X = np.empty((0, X.shape[1]))\n",
        "filtered_y = []\n",
        "\n",
        "# Iterate over each class and select the first 500 samples\n",
        "for label in range(10):  # There are 10 classes in MNIST (0 through 9)\n",
        "    # Find indices of the current class\n",
        "    indices = np.where(y == label)[0][:500]  # Select first 500 indices for the class\n",
        "    # Append the selected samples and their labels to the filtered datasets\n",
        "    filtered_X = np.vstack((filtered_X, X[indices]))\n",
        "    filtered_y.extend([label] * 500)  # Extend the labels list\n",
        "\n",
        "# Convert the filtered labels list back to a NumPy array for consistency\n",
        "filtered_y = np.array(filtered_y)\n",
        "\n",
        "filtered_X.shape, filtered_y.shape\n"
      ]
    },
    {
      "cell_type": "markdown",
      "metadata": {
        "id": "mDqEP6lIo5dj"
      },
      "source": [
        "# Implementation"
      ]
    },
    {
      "cell_type": "markdown",
      "metadata": {
        "id": "rSV68CIdp4d_"
      },
      "source": [
        "### As instructed, I use the scikit implementation of the cosine distance"
      ]
    },
    {
      "cell_type": "code",
      "execution_count": 5,
      "metadata": {
        "colab": {
          "base_uri": "https://localhost:8080/"
        },
        "id": "XCQOgfgYyteN",
        "outputId": "3119fe10-8840-43c4-d5a1-12b38f1afa95"
      },
      "outputs": [
        {
          "name": "stdout",
          "output_type": "stream",
          "text": [
            "[[0. 0. 0. ... 0. 0. 0.]\n",
            " [0. 0. 0. ... 0. 0. 0.]\n",
            " [0. 0. 0. ... 0. 0. 0.]\n",
            " ...\n",
            " [0. 0. 0. ... 0. 0. 0.]\n",
            " [0. 0. 0. ... 0. 0. 0.]\n",
            " [0. 0. 0. ... 0. 0. 0.]]\n"
          ]
        },
        {
          "data": {
            "text/plain": [
              "array([[0., 0., 0., ..., 0., 0., 0.],\n",
              "       [0., 0., 0., ..., 0., 0., 0.],\n",
              "       [0., 0., 0., ..., 0., 0., 0.],\n",
              "       ...,\n",
              "       [0., 0., 0., ..., 0., 0., 0.],\n",
              "       [0., 0., 0., ..., 0., 0., 0.],\n",
              "       [0., 0., 0., ..., 0., 0., 0.]])"
            ]
          },
          "execution_count": 5,
          "metadata": {},
          "output_type": "execute_result"
        }
      ],
      "source": [
        "X_train = filtered_X\n",
        "cov_matrix = np.cov(X_train, rowvar=False)\n",
        "print(cov_matrix)\n",
        "# modify\n",
        "#cov_matrix = cov_matrix + np.eye(cov_matrix.shape[0]) * 1e-6\n",
        "cov_matrix_inv = np.linalg.pinv(cov_matrix)\n",
        "cov_matrix_inv"
      ]
    },
    {
      "cell_type": "code",
      "execution_count": 6,
      "metadata": {
        "id": "OqZMKrpTpYQ7"
      },
      "outputs": [],
      "source": [
        "# \"You can use the scikit implementation of the cosine distance\"\n",
        "from sklearn.metrics.pairwise import cosine_similarity\n",
        "def cosine_distance(a, b):\n",
        "    # change formate to meet par-input foramt\n",
        "    similarity = cosine_similarity(a.reshape(1, -1), b.reshape(1, -1))\n",
        "    return 1 - similarity\n",
        "\n",
        "def mahalanobis_distance(x, y, VI=cov_matrix_inv):\n",
        "    delta = x - y\n",
        "    return np.sqrt(np.dot(np.dot(delta, VI), delta))\n",
        "\n",
        "np.random.seed(42) # for result reproduction ONLY\n",
        "# kmeans with M-Dis & cosine\n",
        "# Distance metric: M and cos\n",
        "def kmeans(X, k, max_iter=100, dis=\"M\",tol=1e-4):\n",
        "    centroids = X[np.random.choice(range(X.shape[0]), k, replace=False)]\n",
        "    for ite in range(max_iter):\n",
        "        # init var\n",
        "        clusters = np.array([])\n",
        "        if dis == \"M\":\n",
        "            clusters = np.array([np.argmin([\n",
        "                mahalanobis_distance(x, centroid, cov_matrix_inv) for centroid in centroids])\n",
        "            for x in X])\n",
        "        elif dis == \"cos\":\n",
        "            clusters = np.array([np.argmin([\n",
        "                cosine_distance(x, centroid) for centroid in centroids])\n",
        "            for x in X])\n",
        "        new_centroids = np.array([X[clusters == j].mean(axis=0) for j in range(k)])\n",
        "        diff = np.sqrt(((new_centroids - centroids) ** 2).sum(axis=1))\n",
        "\n",
        "        # 如果所有质心的移动距离都小于tol，则终止迭代\n",
        "        if np.all(diff < tol):\n",
        "            print(f\"Terminating at iteration {ite}: centroid shift {diff.max()} within tolerance {tol}.\")\n",
        "            break\n",
        "        centroids = new_centroids\n",
        "    return clusters, centroids\n",
        "\n",
        "# clusters, centroids = kmeans(X_train, 5, dis=\"M\")\n",
        "# print(clusters,\"/n\")\n",
        "# print(centroids)"
      ]
    },
    {
      "cell_type": "code",
      "execution_count": 7,
      "metadata": {
        "id": "clCuxtofqOmd"
      },
      "outputs": [],
      "source": [
        "def calculate_cluster_consistency(labels_true, labels_pred, k):\n",
        "    cluster_consistency = np.zeros(k)\n",
        "\n",
        "    for i in range(k):\n",
        "        # 找出属于当前簇的所有数据点的真实标签\n",
        "        cluster_labels = labels_true[labels_pred == i]\n",
        "\n",
        "        # 如果当前簇为空，则跳过\n",
        "        if len(cluster_labels) == 0:\n",
        "            continue\n",
        "\n",
        "        # 计算每个标签的数据点数量并找出数量最多的标签\n",
        "        _, counts = np.unique(cluster_labels, return_counts=True)\n",
        "        m_i = np.max(counts)  # 最多标签的数据点数量\n",
        "        N_i = len(cluster_labels)  # 簇内总数据点数\n",
        "\n",
        "        # 计算簇的一致性\n",
        "        cluster_consistency[i] = m_i / N_i\n",
        "\n",
        "    # 计算整体聚类一致性Q\n",
        "    Q = np.mean(cluster_consistency[cluster_consistency > 0])  # 排除空簇的影响\n",
        "    return Q\n",
        "\n",
        "# 假设 labels_true 和 labels_pred 已经定义\n",
        "# Q = calculate_cluster_consistency(y_train, clusters, 5)\n",
        "# print(f\"整体聚类一致性Q: {Q}\")\n"
      ]
    },
    {
      "cell_type": "markdown",
      "metadata": {
        "id": "g7lU4rnAQ_o-"
      },
      "source": [
        "# 2.k_list = [5,10,20,40,200]"
      ]
    },
    {
      "cell_type": "markdown",
      "metadata": {
        "id": "2lgOrWbiQwnY"
      },
      "source": [
        "# 3.calc Q"
      ]
    },
    {
      "cell_type": "code",
      "execution_count": 8,
      "metadata": {
        "id": "EdCxKwDcMD98"
      },
      "outputs": [
        {
          "name": "stdout",
          "output_type": "stream",
          "text": [
            "Terminating at iteration 29: centroid shift 0.0 within tolerance 0.0001.\n",
            "cos 5 0.4967215207888006\n",
            "Terminating at iteration 56: centroid shift 0.0 within tolerance 0.0001.\n",
            "cos 10 0.5995416972251939\n",
            "Terminating at iteration 27: centroid shift 0.0 within tolerance 0.0001.\n",
            "cos 20 0.7592568200823244\n",
            "Terminating at iteration 38: centroid shift 0.0 within tolerance 0.0001.\n",
            "cos 40 0.793561511625709\n",
            "Terminating at iteration 19: centroid shift 0.0 within tolerance 0.0001.\n",
            "cos 200 0.8816353107032902\n"
          ]
        },
        {
          "data": {
            "image/png": "[encoded data removed]",
            "text/plain": [
              "<Figure size 432x288 with 1 Axes>"
            ]
          },
          "metadata": {
            "needs_background": "light"
          },
          "output_type": "display_data"
        }
      ],
      "source": [
        "k_list = [5,10,20,40,200]\n",
        "y_train = filtered_y\n",
        "#k_list = [40,200]\n",
        "def kmeans_plot(X, max_iter=100, dis=\"cos\"):\n",
        "    distances = [] # Q list\n",
        "    for k in k_list:\n",
        "        clusters, centroids = kmeans(X_train, k, dis=dis)\n",
        "        Q = calculate_cluster_consistency(y_train, clusters, k)\n",
        "        distances.append(Q)\n",
        "        print(dis, k, Q)\n",
        "    plt.plot(k_list, distances)\n",
        "    plt.xlabel(\"k\")\n",
        "    plt.ylabel(\"Q\")\n",
        "    plt.show()\n",
        "    #return distances\n",
        "\n",
        "# cos\n",
        "kmeans_plot(X_train,dis=\"cos\")"
      ]
    },
    {
      "cell_type": "code",
      "execution_count": null,
      "metadata": {
        "id": "xZsml06rS0KK"
      },
      "outputs": [],
      "source": []
    },
    {
      "cell_type": "code",
      "execution_count": 9,
      "metadata": {
        "id": "DsOKqhJOl_PB"
      },
      "outputs": [
        {
          "name": "stdout",
          "output_type": "stream",
          "text": [
            "Terminating at iteration 33: centroid shift 0.0 within tolerance 0.0001.\n",
            "M 5 0.3616454201925333\n",
            "Terminating at iteration 26: centroid shift 0.0 within tolerance 0.0001.\n",
            "M 10 0.555626063805575\n",
            "Terminating at iteration 35: centroid shift 0.0 within tolerance 0.0001.\n",
            "M 20 0.6329275713741819\n",
            "Terminating at iteration 58: centroid shift 0.0 within tolerance 0.0001.\n",
            "M 40 0.776522969576391\n",
            "Terminating at iteration 60: centroid shift 0.0 within tolerance 0.0001.\n",
            "M 200 0.8428442169539155\n"
          ]
        },
        {
          "data": {
            "image/png": "[encoded data removed]",
            "text/plain": [
              "<Figure size 432x288 with 1 Axes>"
            ]
          },
          "metadata": {
            "needs_background": "light"
          },
          "output_type": "display_data"
        }
      ],
      "source": [
        "kmeans_plot(X_train, dis=\"M\")"
      ]
    },
    {
      "cell_type": "markdown",
      "metadata": {
        "id": "zZhaCGesRFxm"
      },
      "source": [
        "#### store results of 2 and get Q"
      ]
    },
    {
      "cell_type": "code",
      "execution_count": 10,
      "metadata": {
        "id": "zxwEXpqDQvib"
      },
      "outputs": [],
      "source": [
        "def calculate_cluster_consistency(labels_true, labels_pred, k):\n",
        "    cluster_consistency = np.zeros(k)\n",
        "\n",
        "    for i in range(k):\n",
        "        # 找出属于当前簇的所有数据点的真实标签\n",
        "        cluster_labels = labels_true[labels_pred == i]\n",
        "\n",
        "        # 如果当前簇为空，则跳过\n",
        "        if len(cluster_labels) == 0:\n",
        "            continue\n",
        "\n",
        "        # 计算每个标签的数据点数量并找出数量最多的标签\n",
        "        _, counts = np.unique(cluster_labels, return_counts=True)\n",
        "        m_i = np.max(counts)  # 最多标签的数据点数量\n",
        "        N_i = len(cluster_labels)  # 簇内总数据点数\n",
        "\n",
        "        # 计算簇的一致性\n",
        "        cluster_consistency[i] = m_i / N_i\n",
        "\n",
        "    # 计算整体聚类一致性Q\n",
        "    Q = np.mean(cluster_consistency[cluster_consistency > 0])  # 排除空簇的影响\n",
        "    return Q\n",
        "\n",
        "# 假设 labels_true 和 labels_pred 已经定义\n",
        "# Q = calculate_cluster_consistency(y_train, M_clusters, 10)\n",
        "# print(f\"整体聚类一致性Q: {Q}\")\n"
      ]
    }
  ],
  "metadata": {
    "colab": {
      "provenance": []
    },
    "kernelspec": {
      "display_name": "Python 3",
      "name": "python3"
    },
    "language_info": {
      "codemirror_mode": {
        "name": "ipython",
        "version": 3
      },
      "file_extension": ".py",
      "mimetype": "text/x-python",
      "name": "python",
      "nbconvert_exporter": "python",
      "pygments_lexer": "ipython3",
      "version": "3.8.5"
    }
  },
  "nbformat": 4,
  "nbformat_minor": 0
}
