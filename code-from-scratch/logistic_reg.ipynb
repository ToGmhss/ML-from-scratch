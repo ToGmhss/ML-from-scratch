{
 "cells": [
  {
   "cell_type": "code",
   "execution_count": 28,
   "metadata": {},
   "outputs": [],
   "source": [
    "import pandas as pd\n",
    "import numpy as np\n",
    "import matplotlib.pyplot as plt\n",
    "from sklearn.decomposition import PCA\n",
    "from sklearn.datasets import fetch_openml\n",
    "\n",
    "# Load the MNIST dataset, False makes it return the data as a NumPy array\n",
    "mnist = fetch_openml('mnist_784', version=1, as_frame=False)\n",
    "\n",
    "# Flatten the images\n",
    "X = mnist.data\n",
    "y = mnist.target\n",
    "#print(X.shape) #(70000, 784)\n",
    "\n",
    "# Split the data\n",
    "X_train, y_train = X[:60000], y[:60000]\n",
    "X_test, y_test = X[60000:], y[60000:]"
   ]
  },
  {
   "cell_type": "code",
   "execution_count": 29,
   "metadata": {},
   "outputs": [
    {
     "name": "stdout",
     "output_type": "stream",
     "text": [
      "(11973, 784)\n",
      "(11973,)\n",
      "(1992, 784)\n",
      "(1992,)\n"
     ]
    }
   ],
   "source": [
    "y_train = y_train.astype(int)\n",
    "y_test = y_test.astype(int)\n",
    "\n",
    "def filterr(X,y):\n",
    "    # Keep only the data for digits/classes 3 and 4\n",
    "    X_filtered = X[(y == 3) | (y == 4)]\n",
    "    y_filtered = y[(y == 3) | (y == 4)]\n",
    "    return X_filtered, y_filtered\n",
    "\n",
    "X_train, y_train = filterr(X_train, y_train)\n",
    "X_test, y_test = filterr(X_test, y_test)\n",
    "# Convert labels to integers\n",
    "print(X_train.shape)\n",
    "print(y_train.shape)\n",
    "print(X_test.shape)\n",
    "print(y_test.shape)"
   ]
  },
  {
   "cell_type": "code",
   "execution_count": 30,
   "metadata": {},
   "outputs": [
    {
     "name": "stdout",
     "output_type": "stream",
     "text": [
      "[[-547.48030741 -437.0355941 ]\n",
      " [ 552.34261784  751.79342706]\n",
      " [-860.21115602  446.88552389]\n",
      " ...\n",
      " [1012.51158727  468.04068361]\n",
      " [ 602.67422673  634.42084587]\n",
      " [ 746.38165254  849.62923433]]\n"
     ]
    }
   ],
   "source": [
    "pca = PCA(n_components=2)\n",
    "X_train = pca.fit_transform(X_train)\n",
    "X_test = pca.transform(X_test)\n",
    "print(X_train)\n",
    "def convert_34(y_list):\n",
    "    return np.array([1 if i == 3 else 0 for i in y_list])\n",
    "\n",
    "def convert_to_34(y_list):\n",
    "    return np.array([3 if i == 1 else 4 for i in y_list])\n",
    "\n",
    "y_train = convert_34(y_train)\n",
    "y_test = convert_34(y_test)"
   ]
  },
  {
   "cell_type": "markdown",
   "metadata": {},
   "source": [
    "# 1.Implement logistic regression"
   ]
  },
  {
   "cell_type": "code",
   "execution_count": 58,
   "metadata": {},
   "outputs": [
    {
     "name": "stdout",
     "output_type": "stream",
     "text": [
      "Epoch 10, Loss: 1.110284\n",
      "Converged at epoch 17, cur loss is: 1.020939\n"
     ]
    },
    {
     "data": {
      "image/png": "[encoded data removed]",
      "text/plain": [
       "<Figure size 864x648 with 2 Axes>"
      ]
     },
     "metadata": {
      "needs_background": "light"
     },
     "output_type": "display_data"
    },
    {
     "name": "stdout",
     "output_type": "stream",
     "text": [
      "Test Accuracy: 0.9784137\n"
     ]
    },
    {
     "data": {
      "text/plain": [
       "<Figure size 432x288 with 0 Axes>"
      ]
     },
     "metadata": {},
     "output_type": "display_data"
    }
   ],
   "source": [
    "np.random.seed(99)\n",
    "\n",
    "def sigmoid(z):\n",
    "    z = np.clip(z, -500, 500)  # 对输入 z 进行截断，避免溢出\n",
    "    return 1 / (1 + np.exp(-z))\n",
    "\n",
    "\n",
    "\n",
    "def compute_loss(y_true, y_pred):\n",
    "    epsilon = 1e-15  # 用于避免log(0)的情况\n",
    "    #y_true = convert_34(y_true)\n",
    "    loss = -np.mean(y_true * np.log(y_pred + epsilon) + (1 - y_true) * np.log(1 - y_pred + epsilon))\n",
    "    return loss\n",
    "\n",
    "def get_acc(w, X_test=X_test, y_test=y_test):\n",
    "    y_pred_test = sigmoid(np.dot(X_test, w))\n",
    "    y_pred_binary = (y_pred_test >= 0.5).astype(int)\n",
    "    accuracy = np.mean(y_pred_binary == y_test)\n",
    "    #print(f\"Test Accuracy: {accuracy:.4f}\")\n",
    "    return accuracy\n",
    "\n",
    "def draw(epochs, test_errors, train_errors, test_losses, train_losses, fname='plots.png'):\n",
    "    plt.figure(figsize=(12, 9))\n",
    "\n",
    "    # 绘制测试误差和训练误差的图表\n",
    "    plt.subplot(2, 2, 1)\n",
    "    plt.plot(epochs, test_errors, label='Test Error', color='blue')  # 设置测试误差的线条颜色为蓝色\n",
    "    plt.plot(epochs, train_errors, label='Train Error', color='red')  # 设置训练误差的线条颜色为红色\n",
    "    plt.xlabel('Epochs')\n",
    "    plt.ylabel('Error')\n",
    "    plt.title('Error vs Epochs')\n",
    "    plt.legend(loc='upper right')  # 设置图例位置为右上角\n",
    "\n",
    "    # 绘制测试损失和训练损失的图表\n",
    "    plt.subplot(2, 2, 2)\n",
    "    plt.plot(epochs, test_losses, label='Test Loss', color='blue')  # 设置测试损失的线条颜色为蓝色\n",
    "    plt.plot(epochs, train_losses, label='Train Loss', color='red')  # 设置训练损失的线条颜色为红色\n",
    "    plt.xlabel('Epochs')\n",
    "    plt.ylabel('Loss')\n",
    "    plt.title('Loss vs Epochs')\n",
    "    plt.legend(loc='upper right')  # 设置图例位置为右上角\n",
    "\n",
    "    plt.tight_layout()\n",
    "    plt.show()\n",
    "\n",
    "    plt.savefig(fname) \n",
    "\n",
    "def logistic(max_epochs = 100, learning_rate = 0.1, tolerance = 1e-4):\n",
    "    # Initialize parameters\n",
    "    w = np.random.randn(X_train.shape[1])\n",
    "\n",
    "    # Gradient Descent\n",
    "    prev_loss = float('inf')\n",
    "    tr_er, tr_lo, ts_er, ts_lo = [], [], [], []\n",
    "    # train\n",
    "    for epoch in range(max_epochs):\n",
    "        y_pred = sigmoid(np.dot(X_train, w))\n",
    "        loss = compute_loss(y_true=y_train, y_pred=y_pred)\n",
    "        gradient = np.dot(X_train.T, (y_pred - y_train)) / len(y_train)\n",
    "        # four things to keep track of \n",
    "        # A.train\n",
    "        tr_lo.append(loss) # 1.train loss\n",
    "        tr_acc = get_acc(w=w, X_test=X_train, y_test=y_train)\n",
    "        tr_er.append(1-tr_acc) # 2.train err\n",
    "        # B.test\n",
    "        y_pred_test = sigmoid(np.dot(X_test, w))\n",
    "        loss_test = compute_loss(y_true=y_test, y_pred=y_pred_test)\n",
    "        ts_lo.append(loss_test) # 3. test loss\n",
    "        ts_acc = get_acc(w=w, X_test=X_test, y_test=y_test)\n",
    "        ts_er.append(1-ts_acc) # 4. test err\n",
    "        \n",
    "        # Update parameters\n",
    "        w -= learning_rate * gradient\n",
    "        #print(f\"epoch {epoch+1}, cur loss is: {loss}\")\n",
    "        # Check for convergence\n",
    "        if abs(prev_loss - loss) < tolerance:\n",
    "            print(f\"Converged at epoch {epoch+1}, cur loss is: {loss:.6f}\")\n",
    "            #draw(list(range(1, epoch+2)), ts_er, tr_er, ts_lo, tr_lo)\n",
    "            break\n",
    "        \n",
    "        prev_loss = loss\n",
    "\n",
    "        if (epoch + 1) % 10 == 0:\n",
    "            print(f\"Epoch {epoch+1}, Loss: {loss:.6f}\")\n",
    "\n",
    "    \n",
    "    draw(list(range(1, epoch+2)), ts_er, tr_er, ts_lo, tr_lo)\n",
    "    # Predict on the test set\n",
    "    y_pred_test = sigmoid(np.dot(X_test, w))\n",
    "\n",
    "    # Convert probabilities to binary predictions\n",
    "    y_pred_binary = (y_pred_test >= 0.5).astype(int)\n",
    "    #y_pred_binary = convert_to_34(y_pred_binary)\n",
    "\n",
    "    # Calculate accuracy\n",
    "    accuracy = np.mean(y_pred_binary == y_test)\n",
    "    print(f\"Test Accuracy: {accuracy:.7f}\")\n",
    "logistic()"
   ]
  },
  {
   "cell_type": "code",
   "execution_count": 32,
   "metadata": {},
   "outputs": [
    {
     "data": {
      "text/plain": [
       "6131"
      ]
     },
     "execution_count": 32,
     "metadata": {},
     "output_type": "execute_result"
    }
   ],
   "source": []
  },
  {
   "cell_type": "code",
   "execution_count": null,
   "metadata": {},
   "outputs": [],
   "source": []
  },
  {
   "cell_type": "markdown",
   "metadata": {},
   "source": [
    "# 3. Logistic w/o sigmoid"
   ]
  },
  {
   "cell_type": "code",
   "execution_count": 59,
   "metadata": {},
   "outputs": [
    {
     "name": "stderr",
     "output_type": "stream",
     "text": [
      "<ipython-input-58-1e60198cb22a>:12: RuntimeWarning: invalid value encountered in log\n",
      "  loss = -np.mean(y_true * np.log(y_pred + epsilon) + (1 - y_true) * np.log(1 - y_pred + epsilon))\n"
     ]
    },
    {
     "name": "stdout",
     "output_type": "stream",
     "text": [
      "Converged at epoch 9, cur loss is: 1.021192\n",
      "Test Accuracy: 0.9779116\n"
     ]
    },
    {
     "data": {
      "image/png": "[encoded data removed]",
      "text/plain": [
       "<Figure size 864x648 with 2 Axes>"
      ]
     },
     "metadata": {
      "needs_background": "light"
     },
     "output_type": "display_data"
    },
    {
     "data": {
      "text/plain": [
       "<Figure size 432x288 with 0 Axes>"
      ]
     },
     "metadata": {},
     "output_type": "display_data"
    }
   ],
   "source": [
    "def get_acc_wos(w, X_test=X_test, y_test=y_test):\n",
    "    y_pred_test = np.dot(X_test, w)\n",
    "    y_pred_binary = (y_pred_test >= 0).astype(int)\n",
    "    accuracy = np.mean(y_pred_binary == y_test)\n",
    "    #print(f\"Test Accuracy: {accuracy:.4f}\")\n",
    "    return accuracy\n",
    "\n",
    "def log_wo_sgm(max_epochs = 100, learning_rate = 0.01, tolerance = 1e-4):\n",
    "    # Initialize parameters\n",
    "    w = np.random.randn(X_train.shape[1])\n",
    "\n",
    "    # Gradient Descent\n",
    "    prev_loss = float('inf')\n",
    "    tr_er, tr_lo, ts_er, ts_lo = [], [], [], []\n",
    "    # train\n",
    "    for epoch in range(max_epochs):\n",
    "        y_pred = np.dot(X_train, w)\n",
    "        y_pred = (y_pred >= 0).astype(int)\n",
    "        loss = compute_loss(y_true=y_train, y_pred=y_pred)\n",
    "        gradient = np.dot(X_train.T, (y_pred - y_train)) / len(y_train)\n",
    "        # four things to keep track of \n",
    "        # A.train\n",
    "        tr_lo.append(loss) # 1.train loss\n",
    "        tr_acc = get_acc_wos(w=w, X_test=X_train, y_test=y_train)\n",
    "        tr_er.append(1-tr_acc) # 2.train err\n",
    "        # B.test\n",
    "        y_pred_test = np.dot(X_test, w)\n",
    "        loss_test = compute_loss(y_true=y_test, y_pred=y_pred_test)\n",
    "        ts_lo.append(loss_test) # 3. test loss\n",
    "        ts_acc = get_acc_wos(w=w, X_test=X_test, y_test=y_test)\n",
    "        ts_er.append(1-ts_acc) # 4. test err\n",
    "        \n",
    "        # Update parameters\n",
    "        w -= learning_rate * gradient\n",
    "        #print(f\"epoch {epoch+1}, cur loss is: {loss}\")\n",
    "        # Check for convergence\n",
    "        if abs(prev_loss - loss) < tolerance:\n",
    "            print(f\"Converged at epoch {epoch+1}, cur loss is: {loss:.6f}\")\n",
    "            #draw(list(range(1, epoch+2)), ts_er, tr_er, ts_lo, tr_lo)\n",
    "            #print(ts_acc)\n",
    "            print(f\"Test Accuracy: {ts_acc:.7f}\")\n",
    "            break\n",
    "        \n",
    "        prev_loss = loss\n",
    "\n",
    "        if (epoch + 1) % 10 == 0:\n",
    "            print(f\"Epoch {epoch+1}, Loss: {loss:.6f}\")\n",
    "\n",
    "    \n",
    "    draw(list(range(1, epoch+2)), ts_er, tr_er, ts_lo, tr_lo)\n",
    "    \n",
    "log_wo_sgm()"
   ]
  },
  {
   "cell_type": "markdown",
   "metadata": {},
   "source": [
    "# 4. Non-zero bias"
   ]
  },
  {
   "cell_type": "code",
   "execution_count": 57,
   "metadata": {},
   "outputs": [
    {
     "name": "stdout",
     "output_type": "stream",
     "text": [
      "Epoch 10, Loss: 1.087540\n",
      "Epoch 20, Loss: 0.994933\n",
      "Epoch 30, Loss: 0.986551\n",
      "Converged at epoch 31, cur loss is: 0.986554\n"
     ]
    },
    {
     "data": {
      "image/png": "[encoded data removed]",
      "text/plain": [
       "<Figure size 864x648 with 2 Axes>"
      ]
     },
     "metadata": {
      "needs_background": "light"
     },
     "output_type": "display_data"
    },
    {
     "name": "stdout",
     "output_type": "stream",
     "text": [
      "Test Accuracy: 0.97892\n"
     ]
    },
    {
     "data": {
      "text/plain": [
       "<Figure size 432x288 with 0 Axes>"
      ]
     },
     "metadata": {},
     "output_type": "display_data"
    }
   ],
   "source": [
    "def log_w_bias(max_epochs = 100, learning_rate = 0.1, tolerance = 1e-4):\n",
    "    # Initialize parameters\n",
    "    w = np.random.randn(X_train.shape[1])\n",
    "\n",
    "    # Gradient Descent\n",
    "    prev_loss = float('inf')\n",
    "    tr_er, tr_lo, ts_er, ts_lo = [], [], [], []\n",
    "    # train\n",
    "    for epoch in range(max_epochs):\n",
    "        y_pred = sigmoid(np.dot(X_train, w)+1)\n",
    "        loss = compute_loss(y_true=y_train, y_pred=y_pred)\n",
    "        gradient = np.dot(X_train.T, (y_pred - y_train)) / len(y_train)\n",
    "        # four things to keep track of \n",
    "        # A.train\n",
    "        tr_lo.append(loss) # 1.train loss\n",
    "        tr_acc = get_acc(w=w, X_test=X_train, y_test=y_train)\n",
    "        tr_er.append(1-tr_acc) # 2.train err\n",
    "        # B.test\n",
    "        y_pred_test = sigmoid(np.dot(X_test, w)+1)\n",
    "        loss_test = compute_loss(y_true=y_test, y_pred=y_pred_test)\n",
    "        ts_lo.append(loss_test) # 3. test loss\n",
    "        ts_acc = get_acc(w=w, X_test=X_test, y_test=y_test)\n",
    "        ts_er.append(1-ts_acc) # 4. test err\n",
    "        \n",
    "        # Update parameters\n",
    "        w -= learning_rate * gradient\n",
    "        #print(f\"epoch {epoch+1}, cur loss is: {loss}\")\n",
    "        # Check for convergence\n",
    "        if abs(prev_loss - loss) < tolerance:\n",
    "            print(f\"Converged at epoch {epoch+1}, cur loss is: {loss:.6f}\")\n",
    "            #draw(list(range(1, epoch+2)), ts_er, tr_er, ts_lo, tr_lo)\n",
    "            break\n",
    "        \n",
    "        prev_loss = loss\n",
    "\n",
    "        if (epoch + 1) % 10 == 0:\n",
    "            print(f\"Epoch {epoch+1}, Loss: {loss:.6f}\")\n",
    "\n",
    "    \n",
    "    draw(list(range(1, epoch+2)), ts_er, tr_er, ts_lo, tr_lo)\n",
    "    # Predict on the test set\n",
    "    y_pred_test = sigmoid(np.dot(X_test, w)+1)\n",
    "\n",
    "    # Convert probabilities to binary predictions\n",
    "    y_pred_binary = (y_pred_test >= 0.5).astype(int)\n",
    "    #y_pred_binary = convert_to_34(y_pred_binary)\n",
    "\n",
    "    # Calculate accuracy\n",
    "    accuracy = np.mean(y_pred_binary == y_test)\n",
    "    print(f\"Test Accuracy: {accuracy:.5f}\")\n",
    "log_w_bias()"
   ]
  },
  {
   "cell_type": "code",
   "execution_count": 60,
   "metadata": {},
   "outputs": [
    {
     "data": {
      "text/plain": [
       "device(type='cpu')"
      ]
     },
     "execution_count": 60,
     "metadata": {},
     "output_type": "execute_result"
    }
   ],
   "source": [
    "import torch\n",
    "device = torch.device('cuda' if torch.cuda.is_available() else 'cpu')\n",
    "device"
   ]
  }
 ],
 "metadata": {
  "kernelspec": {
   "display_name": "Python 3",
   "language": "python",
   "name": "python3"
  },
  "language_info": {
   "codemirror_mode": {
    "name": "ipython",
    "version": 3
   },
   "file_extension": ".py",
   "mimetype": "text/x-python",
   "name": "python",
   "nbconvert_exporter": "python",
   "pygments_lexer": "ipython3",
   "version": "3.8.5"
  }
 },
 "nbformat": 4,
 "nbformat_minor": 2
}
