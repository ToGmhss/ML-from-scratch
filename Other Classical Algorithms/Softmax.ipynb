{
 "cells": [
  {
   "cell_type": "markdown",
   "metadata": {},
   "source": [
    "# Softmax Regression"
   ]
  },
  {
   "cell_type": "markdown",
   "metadata": {},
   "source": [
    "### all necessary packages are listed below"
   ]
  },
  {
   "cell_type": "code",
   "execution_count": null,
   "metadata": {},
   "outputs": [],
   "source": [
    "import pandas as pd\n",
    "import numpy as np\n",
    "import matplotlib.pyplot as plt\n",
    "# Below is merely used for splitting data in cross validation part !!!\n",
    "from sklearn.model_selection import KFold\n",
    "kf = KFold(n_splits=5, shuffle=True, random_state=0)"
   ]
  },
  {
   "cell_type": "markdown",
   "metadata": {},
   "source": [
    "### the functions defined below are the main coding parts of the Softmax Regression model"
   ]
  },
  {
   "cell_type": "code",
   "execution_count": null,
   "metadata": {},
   "outputs": [],
   "source": [
    "# use the softmax function to approximate probability\n",
    "def softmax(a):\n",
    "    c = np.max(a)\n",
    "    exp_a = np.exp(a - c)    # deal with out-of-range problems\n",
    "    sum_exp_a = np.sum(exp_a)\n",
    "    h = exp_a / sum_exp_a\n",
    "    \n",
    "    return h"
   ]
  },
  {
   "cell_type": "code",
   "execution_count": null,
   "metadata": {},
   "outputs": [],
   "source": [
    "# use gradient descend to find the optimal w in softmax regression\n",
    "def grad_desc(X, y, lambd, quiet=True):\n",
    "    n = np.shape(X)[1]\n",
    "    s = np.shape(y)[0]\n",
    "    weights = np.ones((n,s))\n",
    "    alpha = 0.01\n",
    "    accuracy = 0.000001\n",
    "    maxIter = 1000000\n",
    "\n",
    "    for i in range(maxIter):\n",
    "        if i%10000 == 0 and not quiet:\n",
    "            print(\"Gradient Descend Round\", i)\n",
    "            alpha -= 0.0001\n",
    "        h = softmax(np.dot(X,weights)).transpose()\n",
    "        delta = np.dot( X.transpose() , (h-y).transpose() ) / X.shape[0] +lambd*weights\n",
    "        weights = weights - alpha * delta\n",
    "        if (np.dot(alpha*delta[:,0].transpose(), alpha*delta[:,0])) < accuracy:\n",
    "            if (np.dot(alpha*delta[:,1].transpose(), alpha*delta[:,1])) < accuracy:\n",
    "                break\n",
    "\n",
    "    return weights"
   ]
  },
  {
   "cell_type": "code",
   "execution_count": null,
   "metadata": {},
   "outputs": [],
   "source": [
    "# use the derived w to predict the labels\n",
    "def predict(X, w):\n",
    "    R = X.dot( w )\n",
    "    r = np.zeros(R.shape[0])\n",
    "    for i in range(len(R)):\n",
    "        r_pred = softmax(R[i])\n",
    "        if r_pred[0] >= r_pred[1]:\n",
    "            r[i] = 1\n",
    "        else:\n",
    "            r[i] = 0\n",
    "\n",
    "    return r"
   ]
  },
  {
   "cell_type": "markdown",
   "metadata": {},
   "source": [
    "### the main training and testing procedures are as follows"
   ]
  },
  {
   "cell_type": "code",
   "execution_count": null,
   "metadata": {},
   "outputs": [],
   "source": [
    "# The \"evaluate\" function is defined in the metrics part of the project\n",
    "l_list = [0, 0.001, 0.01, 0.1, 1, 10]\n",
    "for i in range(len(l_list)):\n",
    "    lambd = l_list[i]\n",
    "    print(\"++++++++++++++++++++++++++ At lambda =\",lambd, \"+++++++++++++++++++++++++++++++\")\n",
    "    w = grad_desc(X_train, y_train, lambd, quiet=True)\n",
    "    print(\"==========Training Result==========\")\n",
    "    y_pred = predict(X_train, w)\n",
    "    evaluate(y_pred, y_train)\n",
    "    print(\"==========Testing Result==========\")\n",
    "    y_pred = predict(X_test, w)\n",
    "    evaluate(y_pred, y_test)"
   ]
  }
 ],
 "metadata": {
  "kernelspec": {
   "display_name": "Python 3",
   "language": "python",
   "name": "python3"
  },
  "language_info": {
   "codemirror_mode": {
    "name": "ipython",
    "version": 3
   },
   "file_extension": ".py",
   "mimetype": "text/x-python",
   "name": "python",
   "nbconvert_exporter": "python",
   "pygments_lexer": "ipython3",
   "version": "3.8.8"
  }
 },
 "nbformat": 4,
 "nbformat_minor": 4
}
