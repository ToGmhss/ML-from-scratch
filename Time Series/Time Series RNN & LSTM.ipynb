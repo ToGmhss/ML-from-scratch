{
 "cells": [
  {
   "cell_type": "markdown",
   "id": "96c4dd84",
   "metadata": {},
   "source": [
    "## Import"
   ]
  },
  {
   "cell_type": "code",
   "execution_count": 1,
   "id": "0417527c",
   "metadata": {},
   "outputs": [],
   "source": [
    "import numpy as np\n",
    "import pandas as pd\n",
    "import matplotlib.pyplot as plt"
   ]
  },
  {
   "cell_type": "code",
   "execution_count": 2,
   "id": "8d458e85",
   "metadata": {},
   "outputs": [],
   "source": [
    "from IPython.core.interactiveshell import InteractiveShell\n",
    "InteractiveShell.ast_node_interactivity = \"all\""
   ]
  },
  {
   "cell_type": "markdown",
   "id": "f28e6369",
   "metadata": {},
   "source": [
    "## Read Data & Preprocessing"
   ]
  },
  {
   "cell_type": "code",
   "execution_count": 3,
   "id": "eb352e09",
   "metadata": {},
   "outputs": [],
   "source": [
    "from sklearn.preprocessing import StandardScaler"
   ]
  },
  {
   "cell_type": "code",
   "execution_count": 20,
   "id": "de3ef082",
   "metadata": {},
   "outputs": [
    {
     "data": {
      "text/html": [
       "<div>\n",
       "<style scoped>\n",
       "    .dataframe tbody tr th:only-of-type {\n",
       "        vertical-align: middle;\n",
       "    }\n",
       "\n",
       "    .dataframe tbody tr th {\n",
       "        vertical-align: top;\n",
       "    }\n",
       "\n",
       "    .dataframe thead th {\n",
       "        text-align: right;\n",
       "    }\n",
       "</style>\n",
       "<table border=\"1\" class=\"dataframe\">\n",
       "  <thead>\n",
       "    <tr style=\"text-align: right;\">\n",
       "      <th></th>\n",
       "      <th>Date</th>\n",
       "      <th>Open</th>\n",
       "      <th>High</th>\n",
       "      <th>Low</th>\n",
       "      <th>Close</th>\n",
       "      <th>Volume</th>\n",
       "    </tr>\n",
       "  </thead>\n",
       "  <tbody>\n",
       "    <tr>\n",
       "      <th>0</th>\n",
       "      <td>2019/4/8</td>\n",
       "      <td>3271.271973</td>\n",
       "      <td>3288.452881</td>\n",
       "      <td>3210.514893</td>\n",
       "      <td>3244.810059</td>\n",
       "      <td>504500</td>\n",
       "    </tr>\n",
       "    <tr>\n",
       "      <th>1</th>\n",
       "      <td>2019/4/9</td>\n",
       "      <td>3240.394043</td>\n",
       "      <td>3251.645996</td>\n",
       "      <td>3215.705078</td>\n",
       "      <td>3239.664063</td>\n",
       "      <td>364200</td>\n",
       "    </tr>\n",
       "    <tr>\n",
       "      <th>2</th>\n",
       "      <td>2019/4/10</td>\n",
       "      <td>3224.645020</td>\n",
       "      <td>3264.778076</td>\n",
       "      <td>3204.878906</td>\n",
       "      <td>3241.929932</td>\n",
       "      <td>380100</td>\n",
       "    </tr>\n",
       "    <tr>\n",
       "      <th>3</th>\n",
       "      <td>2019/4/11</td>\n",
       "      <td>3241.547119</td>\n",
       "      <td>3254.125977</td>\n",
       "      <td>3185.545898</td>\n",
       "      <td>3189.961914</td>\n",
       "      <td>353000</td>\n",
       "    </tr>\n",
       "    <tr>\n",
       "      <th>4</th>\n",
       "      <td>2019/4/12</td>\n",
       "      <td>3184.860107</td>\n",
       "      <td>3199.278076</td>\n",
       "      <td>3168.041992</td>\n",
       "      <td>3188.625977</td>\n",
       "      <td>289800</td>\n",
       "    </tr>\n",
       "    <tr>\n",
       "      <th>...</th>\n",
       "      <td>...</td>\n",
       "      <td>...</td>\n",
       "      <td>...</td>\n",
       "      <td>...</td>\n",
       "      <td>...</td>\n",
       "      <td>...</td>\n",
       "    </tr>\n",
       "    <tr>\n",
       "      <th>478</th>\n",
       "      <td>2021/3/29</td>\n",
       "      <td>3429.632080</td>\n",
       "      <td>3449.833984</td>\n",
       "      <td>3409.886963</td>\n",
       "      <td>3435.300049</td>\n",
       "      <td>284800</td>\n",
       "    </tr>\n",
       "    <tr>\n",
       "      <th>479</th>\n",
       "      <td>2021/3/30</td>\n",
       "      <td>3432.530029</td>\n",
       "      <td>3457.629883</td>\n",
       "      <td>3423.320068</td>\n",
       "      <td>3456.679932</td>\n",
       "      <td>285400</td>\n",
       "    </tr>\n",
       "    <tr>\n",
       "      <th>480</th>\n",
       "      <td>2021/3/31</td>\n",
       "      <td>3452.209961</td>\n",
       "      <td>3452.209961</td>\n",
       "      <td>3420.830078</td>\n",
       "      <td>3441.909912</td>\n",
       "      <td>283000</td>\n",
       "    </tr>\n",
       "    <tr>\n",
       "      <th>481</th>\n",
       "      <td>2021/4/1</td>\n",
       "      <td>3444.810059</td>\n",
       "      <td>3470.030029</td>\n",
       "      <td>3438.830078</td>\n",
       "      <td>3466.330078</td>\n",
       "      <td>275200</td>\n",
       "    </tr>\n",
       "    <tr>\n",
       "      <th>482</th>\n",
       "      <td>2021/4/2</td>\n",
       "      <td>3472.627930</td>\n",
       "      <td>3487.585938</td>\n",
       "      <td>3462.832031</td>\n",
       "      <td>3484.392090</td>\n",
       "      <td>262700</td>\n",
       "    </tr>\n",
       "  </tbody>\n",
       "</table>\n",
       "<p>483 rows × 6 columns</p>\n",
       "</div>"
      ],
      "text/plain": [
       "          Date         Open         High          Low        Close  Volume\n",
       "0     2019/4/8  3271.271973  3288.452881  3210.514893  3244.810059  504500\n",
       "1     2019/4/9  3240.394043  3251.645996  3215.705078  3239.664063  364200\n",
       "2    2019/4/10  3224.645020  3264.778076  3204.878906  3241.929932  380100\n",
       "3    2019/4/11  3241.547119  3254.125977  3185.545898  3189.961914  353000\n",
       "4    2019/4/12  3184.860107  3199.278076  3168.041992  3188.625977  289800\n",
       "..         ...          ...          ...          ...          ...     ...\n",
       "478  2021/3/29  3429.632080  3449.833984  3409.886963  3435.300049  284800\n",
       "479  2021/3/30  3432.530029  3457.629883  3423.320068  3456.679932  285400\n",
       "480  2021/3/31  3452.209961  3452.209961  3420.830078  3441.909912  283000\n",
       "481   2021/4/1  3444.810059  3470.030029  3438.830078  3466.330078  275200\n",
       "482   2021/4/2  3472.627930  3487.585938  3462.832031  3484.392090  262700\n",
       "\n",
       "[483 rows x 6 columns]"
      ]
     },
     "execution_count": 20,
     "metadata": {},
     "output_type": "execute_result"
    },
    {
     "data": {
      "text/plain": [
       "61767.19842913412"
      ]
     },
     "execution_count": 20,
     "metadata": {},
     "output_type": "execute_result"
    },
    {
     "data": {
      "text/plain": [
       "3111.2904398902706"
      ]
     },
     "execution_count": 20,
     "metadata": {},
     "output_type": "execute_result"
    },
    {
     "data": {
      "text/html": [
       "<div>\n",
       "<style scoped>\n",
       "    .dataframe tbody tr th:only-of-type {\n",
       "        vertical-align: middle;\n",
       "    }\n",
       "\n",
       "    .dataframe tbody tr th {\n",
       "        vertical-align: top;\n",
       "    }\n",
       "\n",
       "    .dataframe thead th {\n",
       "        text-align: right;\n",
       "    }\n",
       "</style>\n",
       "<table border=\"1\" class=\"dataframe\">\n",
       "  <thead>\n",
       "    <tr style=\"text-align: right;\">\n",
       "      <th></th>\n",
       "      <th>Open</th>\n",
       "      <th>High</th>\n",
       "      <th>Low</th>\n",
       "      <th>Close</th>\n",
       "      <th>Volume</th>\n",
       "    </tr>\n",
       "  </thead>\n",
       "  <tbody>\n",
       "    <tr>\n",
       "      <th>0</th>\n",
       "      <td>0.650349</td>\n",
       "      <td>0.632000</td>\n",
       "      <td>0.498450</td>\n",
       "      <td>0.537794</td>\n",
       "      <td>2.759595</td>\n",
       "    </tr>\n",
       "    <tr>\n",
       "      <th>1</th>\n",
       "      <td>0.526316</td>\n",
       "      <td>0.485507</td>\n",
       "      <td>0.519671</td>\n",
       "      <td>0.517067</td>\n",
       "      <td>1.219429</td>\n",
       "    </tr>\n",
       "    <tr>\n",
       "      <th>2</th>\n",
       "      <td>0.463054</td>\n",
       "      <td>0.537773</td>\n",
       "      <td>0.475406</td>\n",
       "      <td>0.526194</td>\n",
       "      <td>1.393974</td>\n",
       "    </tr>\n",
       "    <tr>\n",
       "      <th>3</th>\n",
       "      <td>0.530948</td>\n",
       "      <td>0.495378</td>\n",
       "      <td>0.396359</td>\n",
       "      <td>0.316875</td>\n",
       "      <td>1.096480</td>\n",
       "    </tr>\n",
       "    <tr>\n",
       "      <th>4</th>\n",
       "      <td>0.303242</td>\n",
       "      <td>0.277082</td>\n",
       "      <td>0.324791</td>\n",
       "      <td>0.311494</td>\n",
       "      <td>0.402692</td>\n",
       "    </tr>\n",
       "    <tr>\n",
       "      <th>...</th>\n",
       "      <td>...</td>\n",
       "      <td>...</td>\n",
       "      <td>...</td>\n",
       "      <td>...</td>\n",
       "      <td>...</td>\n",
       "    </tr>\n",
       "    <tr>\n",
       "      <th>478</th>\n",
       "      <td>1.286464</td>\n",
       "      <td>1.274301</td>\n",
       "      <td>1.313621</td>\n",
       "      <td>1.305056</td>\n",
       "      <td>0.347803</td>\n",
       "    </tr>\n",
       "    <tr>\n",
       "      <th>479</th>\n",
       "      <td>1.298104</td>\n",
       "      <td>1.305329</td>\n",
       "      <td>1.368545</td>\n",
       "      <td>1.391170</td>\n",
       "      <td>0.354390</td>\n",
       "    </tr>\n",
       "    <tr>\n",
       "      <th>480</th>\n",
       "      <td>1.377156</td>\n",
       "      <td>1.283757</td>\n",
       "      <td>1.358364</td>\n",
       "      <td>1.331679</td>\n",
       "      <td>0.328043</td>\n",
       "    </tr>\n",
       "    <tr>\n",
       "      <th>481</th>\n",
       "      <td>1.347432</td>\n",
       "      <td>1.354682</td>\n",
       "      <td>1.431961</td>\n",
       "      <td>1.430039</td>\n",
       "      <td>0.242418</td>\n",
       "    </tr>\n",
       "    <tr>\n",
       "      <th>482</th>\n",
       "      <td>1.459173</td>\n",
       "      <td>1.424555</td>\n",
       "      <td>1.530098</td>\n",
       "      <td>1.502790</td>\n",
       "      <td>0.105197</td>\n",
       "    </tr>\n",
       "  </tbody>\n",
       "</table>\n",
       "<p>483 rows × 5 columns</p>\n",
       "</div>"
      ],
      "text/plain": [
       "         Open      High       Low     Close    Volume\n",
       "0    0.650349  0.632000  0.498450  0.537794  2.759595\n",
       "1    0.526316  0.485507  0.519671  0.517067  1.219429\n",
       "2    0.463054  0.537773  0.475406  0.526194  1.393974\n",
       "3    0.530948  0.495378  0.396359  0.316875  1.096480\n",
       "4    0.303242  0.277082  0.324791  0.311494  0.402692\n",
       "..        ...       ...       ...       ...       ...\n",
       "478  1.286464  1.274301  1.313621  1.305056  0.347803\n",
       "479  1.298104  1.305329  1.368545  1.391170  0.354390\n",
       "480  1.377156  1.283757  1.358364  1.331679  0.328043\n",
       "481  1.347432  1.354682  1.431961  1.430039  0.242418\n",
       "482  1.459173  1.424555  1.530098  1.502790  0.105197\n",
       "\n",
       "[483 rows x 5 columns]"
      ]
     },
     "execution_count": 20,
     "metadata": {},
     "output_type": "execute_result"
    }
   ],
   "source": [
    "path = \"./000001.SS.csv\"\n",
    "dt = pd.read_csv(path)\n",
    "dt\n",
    "\n",
    "tar_var = dt['Close'].var()\n",
    "tar_mean= dt['Close'].mean()\n",
    "tar_var\n",
    "tar_mean\n",
    "\n",
    "dt = dt.drop(columns=['Date'])\n",
    "dt[dt.columns] = StandardScaler().fit_transform(dt[dt.columns])\n",
    "dt"
   ]
  },
  {
   "cell_type": "markdown",
   "id": "613edec0",
   "metadata": {},
   "source": [
    "## Time Series Preprocessing -- Lags & Shifts"
   ]
  },
  {
   "cell_type": "code",
   "execution_count": 23,
   "id": "0f387e8c",
   "metadata": {},
   "outputs": [
    {
     "data": {
      "text/plain": [
       "(483, 5)"
      ]
     },
     "execution_count": 23,
     "metadata": {},
     "output_type": "execute_result"
    }
   ],
   "source": [
    "dt.shape"
   ]
  },
  {
   "cell_type": "code",
   "execution_count": 26,
   "id": "0677fed3",
   "metadata": {},
   "outputs": [
    {
     "data": {
      "text/plain": [
       "478    1.305056\n",
       "479    1.391170\n",
       "480    1.331679\n",
       "481    1.430039\n",
       "482    1.502790\n",
       "Name: Close, dtype: float64"
      ]
     },
     "execution_count": 26,
     "metadata": {},
     "output_type": "execute_result"
    },
    {
     "data": {
      "text/plain": [
       "449"
      ]
     },
     "execution_count": 26,
     "metadata": {},
     "output_type": "execute_result"
    }
   ],
   "source": [
    "# parameters\n",
    "tr_len = 30\n",
    "ts_len = 5\n",
    "X_arr = []\n",
    "y_arr = []\n",
    "\n",
    "for idx in range(dt.shape[0] - tr_len - ts_len + 1):\n",
    "    X_arr.append(dt.iloc[range(idx, idx + tr_len)]) # No.tr_len of input\n",
    "    y_arr.append(dt['Close'].iloc[range(idx + tr_len, idx + tr_len + ts_len)]) # tr_len\n",
    "#X_arr\n",
    "y_arr[-1]\n",
    "len(X_arr)"
   ]
  },
  {
   "cell_type": "code",
   "execution_count": 42,
   "id": "d0c9eea9",
   "metadata": {},
   "outputs": [],
   "source": [
    "# split train & test\n",
    "x_train = np.array(X_arr[:-ts_len])\n",
    "y_train = np.array(y_arr[:-ts_len])\n",
    "x_test = np.array([np.array(X_arr[-1])])\n",
    "y_test = np.array([np.array(y_arr[-1])])"
   ]
  },
  {
   "cell_type": "code",
   "execution_count": 43,
   "id": "5f57cde1",
   "metadata": {},
   "outputs": [
    {
     "data": {
      "text/plain": [
       "(444, 30, 5)"
      ]
     },
     "execution_count": 43,
     "metadata": {},
     "output_type": "execute_result"
    },
    {
     "data": {
      "text/plain": [
       "(1, 30, 5)"
      ]
     },
     "execution_count": 43,
     "metadata": {},
     "output_type": "execute_result"
    },
    {
     "data": {
      "text/plain": [
       "(444, 5)"
      ]
     },
     "execution_count": 43,
     "metadata": {},
     "output_type": "execute_result"
    },
    {
     "data": {
      "text/plain": [
       "(1, 5)"
      ]
     },
     "execution_count": 43,
     "metadata": {},
     "output_type": "execute_result"
    }
   ],
   "source": [
    "x_train.shape\n",
    "x_test.shape\n",
    "y_train.shape\n",
    "y_test.shape"
   ]
  },
  {
   "cell_type": "markdown",
   "id": "e9e1700c",
   "metadata": {},
   "source": [
    "## RNN & LSTM"
   ]
  },
  {
   "cell_type": "markdown",
   "id": "2eaa3cec",
   "metadata": {},
   "source": [
    "## 1. LSTM "
   ]
  },
  {
   "cell_type": "code",
   "execution_count": 35,
   "id": "4e007875",
   "metadata": {},
   "outputs": [],
   "source": [
    "import tensorflow as tf\n",
    "from keras.layers import Dropout\n",
    "from tensorflow.keras.layers import Dense\n",
    "from tensorflow.keras.layers import LSTM\n",
    "from tensorflow.keras.metrics import RootMeanSquaredError, MeanAbsoluteError\n",
    "from tensorflow.keras.models import Sequential"
   ]
  },
  {
   "cell_type": "code",
   "execution_count": 78,
   "id": "67a55992",
   "metadata": {},
   "outputs": [],
   "source": [
    "# LSTM\n",
    "def get_model(params, input_shape):\n",
    "    model = Sequential()\n",
    "    model.add(LSTM(units=params[\"lstm_units\"], return_sequences=True, input_shape=(input_shape, 5)))\n",
    "    #model.add(Dropout(rate=params[\"dropout\"]))\n",
    "\n",
    "    model.add(LSTM(units=params[\"lstm_units\"], return_sequences=True))\n",
    "    #model.add(Dropout(rate=params[\"dropout\"]))\n",
    "\n",
    "    model.add(LSTM(units=params[\"lstm_units\"], return_sequences=True))\n",
    "    #model.add(Dropout(rate=params[\"dropout\"]))\n",
    "\n",
    "    model.add(LSTM(units=params[\"lstm_units\"], return_sequences=False))\n",
    "    #model.add(Dropout(rate=params[\"dropout\"]))\n",
    "\n",
    "    model.add(Dense(5))\n",
    "\n",
    "    model.compile(loss=params[\"loss\"],\n",
    "                  optimizer=params[\"optimizer\"],\n",
    "                  metrics=[RootMeanSquaredError(), MeanAbsoluteError()]\n",
    "                 )\n",
    "\n",
    "    return model"
   ]
  },
  {
   "cell_type": "code",
   "execution_count": 79,
   "id": "4f9793fb",
   "metadata": {
    "scrolled": true
   },
   "outputs": [
    {
     "name": "stdout",
     "output_type": "stream",
     "text": [
      "Epoch 1/60\n",
      "7/7 [==============================] - 6s 68ms/step - loss: 0.5575 - root_mean_squared_error: 0.7467 - mean_absolute_error: 0.6039\n",
      "Epoch 2/60\n",
      "7/7 [==============================] - 0s 60ms/step - loss: 0.2678 - root_mean_squared_error: 0.5175 - mean_absolute_error: 0.3824\n",
      "Epoch 3/60\n",
      "7/7 [==============================] - 0s 57ms/step - loss: 0.2270 - root_mean_squared_error: 0.4765 - mean_absolute_error: 0.3546\n",
      "Epoch 4/60\n",
      "7/7 [==============================] - 0s 57ms/step - loss: 0.2013 - root_mean_squared_error: 0.4487 - mean_absolute_error: 0.3199\n",
      "Epoch 5/60\n",
      "7/7 [==============================] - 0s 58ms/step - loss: 0.1763 - root_mean_squared_error: 0.4199 - mean_absolute_error: 0.3057\n",
      "Epoch 6/60\n",
      "7/7 [==============================] - 0s 57ms/step - loss: 0.1570 - root_mean_squared_error: 0.3962 - mean_absolute_error: 0.2835\n",
      "Epoch 7/60\n",
      "7/7 [==============================] - 0s 57ms/step - loss: 0.1436 - root_mean_squared_error: 0.3789 - mean_absolute_error: 0.2711\n",
      "Epoch 8/60\n",
      "7/7 [==============================] - 0s 57ms/step - loss: 0.1317 - root_mean_squared_error: 0.3629 - mean_absolute_error: 0.2578\n",
      "Epoch 9/60\n",
      "7/7 [==============================] - 0s 56ms/step - loss: 0.1242 - root_mean_squared_error: 0.3524 - mean_absolute_error: 0.2513\n",
      "Epoch 10/60\n",
      "7/7 [==============================] - 0s 56ms/step - loss: 0.1194 - root_mean_squared_error: 0.3456 - mean_absolute_error: 0.2491\n",
      "Epoch 11/60\n",
      "7/7 [==============================] - 0s 57ms/step - loss: 0.1089 - root_mean_squared_error: 0.3300 - mean_absolute_error: 0.2397\n",
      "Epoch 12/60\n",
      "7/7 [==============================] - 0s 61ms/step - loss: 0.1051 - root_mean_squared_error: 0.3242 - mean_absolute_error: 0.2339\n",
      "Epoch 13/60\n",
      "7/7 [==============================] - 0s 56ms/step - loss: 0.0983 - root_mean_squared_error: 0.3136 - mean_absolute_error: 0.2201\n",
      "Epoch 14/60\n",
      "7/7 [==============================] - 0s 57ms/step - loss: 0.0942 - root_mean_squared_error: 0.3069 - mean_absolute_error: 0.2201\n",
      "Epoch 15/60\n",
      "7/7 [==============================] - 0s 59ms/step - loss: 0.0874 - root_mean_squared_error: 0.2956 - mean_absolute_error: 0.2125\n",
      "Epoch 16/60\n",
      "7/7 [==============================] - 0s 63ms/step - loss: 0.0818 - root_mean_squared_error: 0.2860 - mean_absolute_error: 0.2028\n",
      "Epoch 17/60\n",
      "7/7 [==============================] - 0s 63ms/step - loss: 0.0837 - root_mean_squared_error: 0.2893 - mean_absolute_error: 0.2131\n",
      "Epoch 18/60\n",
      "7/7 [==============================] - 0s 64ms/step - loss: 0.0893 - root_mean_squared_error: 0.2989 - mean_absolute_error: 0.2140\n",
      "Epoch 19/60\n",
      "7/7 [==============================] - 0s 67ms/step - loss: 0.0837 - root_mean_squared_error: 0.2892 - mean_absolute_error: 0.2108\n",
      "Epoch 20/60\n",
      "7/7 [==============================] - 0s 69ms/step - loss: 0.0727 - root_mean_squared_error: 0.2696 - mean_absolute_error: 0.1956\n",
      "Epoch 21/60\n",
      "7/7 [==============================] - 0s 72ms/step - loss: 0.0645 - root_mean_squared_error: 0.2540 - mean_absolute_error: 0.1871\n",
      "Epoch 22/60\n",
      "7/7 [==============================] - 1s 73ms/step - loss: 0.0645 - root_mean_squared_error: 0.2540 - mean_absolute_error: 0.1894\n",
      "Epoch 23/60\n",
      "7/7 [==============================] - 0s 69ms/step - loss: 0.0565 - root_mean_squared_error: 0.2378 - mean_absolute_error: 0.1773\n",
      "Epoch 24/60\n",
      "7/7 [==============================] - 0s 68ms/step - loss: 0.0535 - root_mean_squared_error: 0.2312 - mean_absolute_error: 0.1717\n",
      "Epoch 25/60\n",
      "7/7 [==============================] - 0s 71ms/step - loss: 0.0533 - root_mean_squared_error: 0.2309 - mean_absolute_error: 0.1752\n",
      "Epoch 26/60\n",
      "7/7 [==============================] - 0s 71ms/step - loss: 0.0480 - root_mean_squared_error: 0.2192 - mean_absolute_error: 0.1680\n",
      "Epoch 27/60\n",
      "7/7 [==============================] - 0s 69ms/step - loss: 0.0462 - root_mean_squared_error: 0.2150 - mean_absolute_error: 0.1629\n",
      "Epoch 28/60\n",
      "7/7 [==============================] - 0s 68ms/step - loss: 0.0464 - root_mean_squared_error: 0.2153 - mean_absolute_error: 0.1661\n",
      "Epoch 29/60\n",
      "7/7 [==============================] - 0s 69ms/step - loss: 0.0409 - root_mean_squared_error: 0.2023 - mean_absolute_error: 0.1575\n",
      "Epoch 30/60\n",
      "7/7 [==============================] - 0s 69ms/step - loss: 0.0517 - root_mean_squared_error: 0.2273 - mean_absolute_error: 0.1666\n",
      "Epoch 31/60\n",
      "7/7 [==============================] - 0s 66ms/step - loss: 0.0777 - root_mean_squared_error: 0.2788 - mean_absolute_error: 0.1921\n",
      "Epoch 32/60\n",
      "7/7 [==============================] - 0s 69ms/step - loss: 0.0744 - root_mean_squared_error: 0.2728 - mean_absolute_error: 0.1923\n",
      "Epoch 33/60\n",
      "7/7 [==============================] - 0s 65ms/step - loss: 0.0671 - root_mean_squared_error: 0.2591 - mean_absolute_error: 0.1910\n",
      "Epoch 34/60\n",
      "7/7 [==============================] - 0s 65ms/step - loss: 0.0566 - root_mean_squared_error: 0.2379 - mean_absolute_error: 0.1782\n",
      "Epoch 35/60\n",
      "7/7 [==============================] - 0s 65ms/step - loss: 0.0596 - root_mean_squared_error: 0.2441 - mean_absolute_error: 0.1808\n",
      "Epoch 36/60\n",
      "7/7 [==============================] - 0s 66ms/step - loss: 0.0511 - root_mean_squared_error: 0.2259 - mean_absolute_error: 0.1726\n",
      "Epoch 37/60\n",
      "7/7 [==============================] - 0s 67ms/step - loss: 0.0564 - root_mean_squared_error: 0.2375 - mean_absolute_error: 0.1758\n",
      "Epoch 38/60\n",
      "7/7 [==============================] - 0s 65ms/step - loss: 0.0448 - root_mean_squared_error: 0.2117 - mean_absolute_error: 0.1619\n",
      "Epoch 39/60\n",
      "7/7 [==============================] - 0s 69ms/step - loss: 0.0402 - root_mean_squared_error: 0.2005 - mean_absolute_error: 0.1559\n",
      "Epoch 40/60\n",
      "7/7 [==============================] - 0s 66ms/step - loss: 0.0361 - root_mean_squared_error: 0.1900 - mean_absolute_error: 0.1479\n",
      "Epoch 41/60\n",
      "7/7 [==============================] - 0s 68ms/step - loss: 0.0379 - root_mean_squared_error: 0.1947 - mean_absolute_error: 0.1491\n",
      "Epoch 42/60\n",
      "7/7 [==============================] - 0s 65ms/step - loss: 0.0529 - root_mean_squared_error: 0.2299 - mean_absolute_error: 0.1603\n",
      "Epoch 43/60\n",
      "7/7 [==============================] - 0s 66ms/step - loss: 0.0513 - root_mean_squared_error: 0.2266 - mean_absolute_error: 0.1629\n",
      "Epoch 44/60\n",
      "7/7 [==============================] - 0s 67ms/step - loss: 0.0518 - root_mean_squared_error: 0.2275 - mean_absolute_error: 0.1683\n",
      "Epoch 45/60\n",
      "7/7 [==============================] - 0s 66ms/step - loss: 0.0462 - root_mean_squared_error: 0.2148 - mean_absolute_error: 0.1587\n",
      "Epoch 46/60\n",
      "7/7 [==============================] - 0s 66ms/step - loss: 0.0419 - root_mean_squared_error: 0.2048 - mean_absolute_error: 0.1507\n",
      "Epoch 47/60\n",
      "7/7 [==============================] - 0s 64ms/step - loss: 0.0385 - root_mean_squared_error: 0.1963 - mean_absolute_error: 0.1453\n",
      "Epoch 48/60\n",
      "7/7 [==============================] - 0s 65ms/step - loss: 0.0373 - root_mean_squared_error: 0.1931 - mean_absolute_error: 0.1450\n",
      "Epoch 49/60\n",
      "7/7 [==============================] - 0s 70ms/step - loss: 0.0367 - root_mean_squared_error: 0.1917 - mean_absolute_error: 0.1437\n",
      "Epoch 50/60\n",
      "7/7 [==============================] - 0s 67ms/step - loss: 0.0323 - root_mean_squared_error: 0.1796 - mean_absolute_error: 0.1370\n",
      "Epoch 51/60\n",
      "7/7 [==============================] - 0s 68ms/step - loss: 0.0326 - root_mean_squared_error: 0.1805 - mean_absolute_error: 0.1359\n",
      "Epoch 52/60\n",
      "7/7 [==============================] - 0s 68ms/step - loss: 0.0347 - root_mean_squared_error: 0.1862 - mean_absolute_error: 0.1365\n",
      "Epoch 53/60\n",
      "7/7 [==============================] - 0s 66ms/step - loss: 0.0315 - root_mean_squared_error: 0.1775 - mean_absolute_error: 0.1340\n",
      "Epoch 54/60\n",
      "7/7 [==============================] - 0s 67ms/step - loss: 0.0294 - root_mean_squared_error: 0.1714 - mean_absolute_error: 0.1305\n",
      "Epoch 55/60\n",
      "7/7 [==============================] - 0s 65ms/step - loss: 0.0287 - root_mean_squared_error: 0.1694 - mean_absolute_error: 0.1275\n",
      "Epoch 56/60\n",
      "7/7 [==============================] - 0s 64ms/step - loss: 0.0339 - root_mean_squared_error: 0.1841 - mean_absolute_error: 0.1362\n",
      "Epoch 57/60\n",
      "7/7 [==============================] - 0s 63ms/step - loss: 0.0364 - root_mean_squared_error: 0.1907 - mean_absolute_error: 0.1354\n",
      "Epoch 58/60\n"
     ]
    },
    {
     "name": "stdout",
     "output_type": "stream",
     "text": [
      "7/7 [==============================] - 0s 63ms/step - loss: 0.0300 - root_mean_squared_error: 0.1732 - mean_absolute_error: 0.1325\n",
      "Epoch 59/60\n",
      "7/7 [==============================] - 0s 65ms/step - loss: 0.0302 - root_mean_squared_error: 0.1739 - mean_absolute_error: 0.1311\n",
      "Epoch 60/60\n",
      "7/7 [==============================] - 0s 62ms/step - loss: 0.0274 - root_mean_squared_error: 0.1654 - mean_absolute_error: 0.1232\n"
     ]
    },
    {
     "data": {
      "text/plain": [
       "<keras.callbacks.History at 0x7ff35a8972e0>"
      ]
     },
     "execution_count": 79,
     "metadata": {},
     "output_type": "execute_result"
    }
   ],
   "source": [
    "params = {\n",
    "    \"loss\": \"mean_squared_error\",\n",
    "    \"optimizer\": \"adam\",\n",
    "    #\"dropout\": 0.2,\n",
    "    \"lstm_units\": 90,\n",
    "    \"epochs\": 60,\n",
    "    \"batch_size\": 64,\n",
    "    \"es_patience\" : 10\n",
    "}\n",
    "\n",
    "model = get_model(params=params, input_shape=tr_len)\n",
    "model.fit(\n",
    "    x_train,\n",
    "    y_train,\n",
    "    #validation_data=(x_test, y_test),\n",
    "    epochs=params[\"epochs\"],\n",
    "    batch_size=params[\"batch_size\"],\n",
    "    verbose=1#,\n",
    "    #callbacks=[neptune_callback, es_callback]\n",
    ")\n"
   ]
  },
  {
   "cell_type": "code",
   "execution_count": 80,
   "id": "92166a5d",
   "metadata": {},
   "outputs": [
    {
     "data": {
      "text/plain": [
       "array([[1.1935788, 1.059907 , 0.9838619, 1.000453 , 1.036655 ]],\n",
       "      dtype=float32)"
      ]
     },
     "execution_count": 80,
     "metadata": {},
     "output_type": "execute_result"
    }
   ],
   "source": [
    "y_pred = model.predict(x_test)\n",
    "y_pred"
   ]
  },
  {
   "cell_type": "code",
   "execution_count": 81,
   "id": "2dd36995",
   "metadata": {},
   "outputs": [],
   "source": [
    "y_true = y_test"
   ]
  },
  {
   "cell_type": "code",
   "execution_count": 82,
   "id": "b04ecac4",
   "metadata": {},
   "outputs": [
    {
     "data": {
      "text/plain": [
       "0.337255572595044"
      ]
     },
     "execution_count": 82,
     "metadata": {},
     "output_type": "execute_result"
    }
   ],
   "source": [
    "from sklearn.metrics import mean_squared_error\n",
    "rmse = mean_squared_error(y_pred, y_true, squared=False)\n",
    "rmse"
   ]
  },
  {
   "cell_type": "markdown",
   "id": "10b86323",
   "metadata": {},
   "source": [
    "### LSTM: Training RMSE is 0.1654, Testing RMSE is 0.3373"
   ]
  },
  {
   "cell_type": "code",
   "execution_count": 83,
   "id": "6d5a1bad",
   "metadata": {},
   "outputs": [
    {
     "data": {
      "text/plain": [
       "0.23906113157626793"
      ]
     },
     "execution_count": 83,
     "metadata": {},
     "output_type": "execute_result"
    }
   ],
   "source": [
    "# mape\n",
    "np.mean(np.abs((y_true - y_pred) / y_true))"
   ]
  },
  {
   "cell_type": "markdown",
   "id": "b92c504a",
   "metadata": {},
   "source": [
    "## 2. RNN"
   ]
  },
  {
   "cell_type": "code",
   "execution_count": 57,
   "id": "0dc79acf",
   "metadata": {},
   "outputs": [],
   "source": [
    "from tensorflow.keras.layers import SimpleRNN"
   ]
  },
  {
   "cell_type": "code",
   "execution_count": 58,
   "id": "07cc26df",
   "metadata": {},
   "outputs": [],
   "source": [
    "# RNN\n",
    "def rnn_model(params, input_shape):\n",
    "    model = Sequential()\n",
    "    model.add(SimpleRNN(units=params[\"lstm_units\"], return_sequences=True, input_shape=(input_shape, 5)))\n",
    "    #model.add(Dropout(rate=params[\"dropout\"]))\n",
    "\n",
    "    model.add(SimpleRNN(units=params[\"lstm_units\"], return_sequences=True))\n",
    "    #model.add(Dropout(rate=params[\"dropout\"]))\n",
    "\n",
    "    model.add(SimpleRNN(units=params[\"lstm_units\"], return_sequences=True))\n",
    "    #model.add(Dropout(rate=params[\"dropout\"]))\n",
    "\n",
    "    model.add(SimpleRNN(units=params[\"lstm_units\"], return_sequences=False))\n",
    "    #model.add(Dropout(rate=params[\"dropout\"]))\n",
    "\n",
    "    model.add(Dense(5))\n",
    "\n",
    "    model.compile(loss=params[\"loss\"],\n",
    "                  optimizer=params[\"optimizer\"],\n",
    "                  metrics=[RootMeanSquaredError(), MeanAbsoluteError()]\n",
    "                 )\n",
    "\n",
    "    return model"
   ]
  },
  {
   "cell_type": "code",
   "execution_count": 59,
   "id": "4e18a9bb",
   "metadata": {},
   "outputs": [
    {
     "name": "stdout",
     "output_type": "stream",
     "text": [
      "Epoch 1/60\n",
      "7/7 [==============================] - 2s 20ms/step - loss: 0.5007 - root_mean_squared_error: 0.7076 - mean_absolute_error: 0.5130\n",
      "Epoch 2/60\n",
      "7/7 [==============================] - 0s 17ms/step - loss: 0.1519 - root_mean_squared_error: 0.3898 - mean_absolute_error: 0.2904\n",
      "Epoch 3/60\n",
      "7/7 [==============================] - 0s 16ms/step - loss: 0.1151 - root_mean_squared_error: 0.3393 - mean_absolute_error: 0.2493\n",
      "Epoch 4/60\n",
      "7/7 [==============================] - 0s 16ms/step - loss: 0.0912 - root_mean_squared_error: 0.3020 - mean_absolute_error: 0.2225\n",
      "Epoch 5/60\n",
      "7/7 [==============================] - 0s 16ms/step - loss: 0.0823 - root_mean_squared_error: 0.2868 - mean_absolute_error: 0.2092\n",
      "Epoch 6/60\n",
      "7/7 [==============================] - 0s 16ms/step - loss: 0.0776 - root_mean_squared_error: 0.2785 - mean_absolute_error: 0.2033\n",
      "Epoch 7/60\n",
      "7/7 [==============================] - 0s 16ms/step - loss: 0.0718 - root_mean_squared_error: 0.2679 - mean_absolute_error: 0.1969\n",
      "Epoch 8/60\n",
      "7/7 [==============================] - 0s 16ms/step - loss: 0.0680 - root_mean_squared_error: 0.2609 - mean_absolute_error: 0.1884\n",
      "Epoch 9/60\n",
      "7/7 [==============================] - 0s 15ms/step - loss: 0.0660 - root_mean_squared_error: 0.2568 - mean_absolute_error: 0.1888\n",
      "Epoch 10/60\n",
      "7/7 [==============================] - 0s 16ms/step - loss: 0.0589 - root_mean_squared_error: 0.2427 - mean_absolute_error: 0.1757\n",
      "Epoch 11/60\n",
      "7/7 [==============================] - 0s 16ms/step - loss: 0.0574 - root_mean_squared_error: 0.2397 - mean_absolute_error: 0.1751\n",
      "Epoch 12/60\n",
      "7/7 [==============================] - 0s 16ms/step - loss: 0.0567 - root_mean_squared_error: 0.2381 - mean_absolute_error: 0.1750\n",
      "Epoch 13/60\n",
      "7/7 [==============================] - 0s 15ms/step - loss: 0.0557 - root_mean_squared_error: 0.2359 - mean_absolute_error: 0.1737\n",
      "Epoch 14/60\n",
      "7/7 [==============================] - 0s 16ms/step - loss: 0.0508 - root_mean_squared_error: 0.2255 - mean_absolute_error: 0.1665\n",
      "Epoch 15/60\n",
      "7/7 [==============================] - 0s 18ms/step - loss: 0.0488 - root_mean_squared_error: 0.2210 - mean_absolute_error: 0.1629\n",
      "Epoch 16/60\n",
      "7/7 [==============================] - 0s 17ms/step - loss: 0.0499 - root_mean_squared_error: 0.2235 - mean_absolute_error: 0.1667\n",
      "Epoch 17/60\n",
      "7/7 [==============================] - 0s 17ms/step - loss: 0.0465 - root_mean_squared_error: 0.2156 - mean_absolute_error: 0.1599\n",
      "Epoch 18/60\n",
      "7/7 [==============================] - 0s 16ms/step - loss: 0.0435 - root_mean_squared_error: 0.2086 - mean_absolute_error: 0.1539\n",
      "Epoch 19/60\n",
      "7/7 [==============================] - 0s 16ms/step - loss: 0.0440 - root_mean_squared_error: 0.2099 - mean_absolute_error: 0.1556\n",
      "Epoch 20/60\n",
      "7/7 [==============================] - 0s 17ms/step - loss: 0.0419 - root_mean_squared_error: 0.2047 - mean_absolute_error: 0.1542\n",
      "Epoch 21/60\n",
      "7/7 [==============================] - 0s 17ms/step - loss: 0.0522 - root_mean_squared_error: 0.2284 - mean_absolute_error: 0.1764\n",
      "Epoch 22/60\n",
      "7/7 [==============================] - 0s 16ms/step - loss: 0.0443 - root_mean_squared_error: 0.2104 - mean_absolute_error: 0.1595\n",
      "Epoch 23/60\n",
      "7/7 [==============================] - 0s 16ms/step - loss: 0.0400 - root_mean_squared_error: 0.2000 - mean_absolute_error: 0.1495\n",
      "Epoch 24/60\n",
      "7/7 [==============================] - 0s 17ms/step - loss: 0.0370 - root_mean_squared_error: 0.1925 - mean_absolute_error: 0.1451\n",
      "Epoch 25/60\n",
      "7/7 [==============================] - 0s 16ms/step - loss: 0.0348 - root_mean_squared_error: 0.1866 - mean_absolute_error: 0.1426\n",
      "Epoch 26/60\n",
      "7/7 [==============================] - 0s 16ms/step - loss: 0.0339 - root_mean_squared_error: 0.1842 - mean_absolute_error: 0.1397\n",
      "Epoch 27/60\n",
      "7/7 [==============================] - 0s 17ms/step - loss: 0.0394 - root_mean_squared_error: 0.1986 - mean_absolute_error: 0.1498\n",
      "Epoch 28/60\n",
      "7/7 [==============================] - 0s 16ms/step - loss: 0.0365 - root_mean_squared_error: 0.1911 - mean_absolute_error: 0.1455\n",
      "Epoch 29/60\n",
      "7/7 [==============================] - 0s 17ms/step - loss: 0.0345 - root_mean_squared_error: 0.1857 - mean_absolute_error: 0.1425\n",
      "Epoch 30/60\n",
      "7/7 [==============================] - 0s 17ms/step - loss: 0.0324 - root_mean_squared_error: 0.1799 - mean_absolute_error: 0.1371\n",
      "Epoch 31/60\n",
      "7/7 [==============================] - 0s 16ms/step - loss: 0.0313 - root_mean_squared_error: 0.1771 - mean_absolute_error: 0.1368\n",
      "Epoch 32/60\n",
      "7/7 [==============================] - 0s 15ms/step - loss: 0.0301 - root_mean_squared_error: 0.1735 - mean_absolute_error: 0.1331\n",
      "Epoch 33/60\n",
      "7/7 [==============================] - 0s 17ms/step - loss: 0.0291 - root_mean_squared_error: 0.1706 - mean_absolute_error: 0.1317\n",
      "Epoch 34/60\n",
      "7/7 [==============================] - 0s 16ms/step - loss: 0.0277 - root_mean_squared_error: 0.1664 - mean_absolute_error: 0.1292\n",
      "Epoch 35/60\n",
      "7/7 [==============================] - 0s 16ms/step - loss: 0.0270 - root_mean_squared_error: 0.1643 - mean_absolute_error: 0.1272\n",
      "Epoch 36/60\n",
      "7/7 [==============================] - 0s 15ms/step - loss: 0.0272 - root_mean_squared_error: 0.1650 - mean_absolute_error: 0.1272\n",
      "Epoch 37/60\n",
      "7/7 [==============================] - 0s 16ms/step - loss: 0.0267 - root_mean_squared_error: 0.1633 - mean_absolute_error: 0.1266\n",
      "Epoch 38/60\n",
      "7/7 [==============================] - 0s 16ms/step - loss: 0.0258 - root_mean_squared_error: 0.1607 - mean_absolute_error: 0.1244\n",
      "Epoch 39/60\n",
      "7/7 [==============================] - 0s 16ms/step - loss: 0.0271 - root_mean_squared_error: 0.1645 - mean_absolute_error: 0.1288\n",
      "Epoch 40/60\n",
      "7/7 [==============================] - 0s 16ms/step - loss: 0.0268 - root_mean_squared_error: 0.1636 - mean_absolute_error: 0.1249\n",
      "Epoch 41/60\n",
      "7/7 [==============================] - 0s 16ms/step - loss: 0.0231 - root_mean_squared_error: 0.1520 - mean_absolute_error: 0.1175\n",
      "Epoch 42/60\n",
      "7/7 [==============================] - 0s 18ms/step - loss: 0.0212 - root_mean_squared_error: 0.1456 - mean_absolute_error: 0.1129\n",
      "Epoch 43/60\n",
      "7/7 [==============================] - 0s 17ms/step - loss: 0.0208 - root_mean_squared_error: 0.1441 - mean_absolute_error: 0.1107\n",
      "Epoch 44/60\n",
      "7/7 [==============================] - 0s 16ms/step - loss: 0.0207 - root_mean_squared_error: 0.1439 - mean_absolute_error: 0.1116\n",
      "Epoch 45/60\n",
      "7/7 [==============================] - 0s 16ms/step - loss: 0.0201 - root_mean_squared_error: 0.1419 - mean_absolute_error: 0.1108\n",
      "Epoch 46/60\n",
      "7/7 [==============================] - 0s 15ms/step - loss: 0.0204 - root_mean_squared_error: 0.1429 - mean_absolute_error: 0.1109\n",
      "Epoch 47/60\n",
      "7/7 [==============================] - 0s 16ms/step - loss: 0.0199 - root_mean_squared_error: 0.1409 - mean_absolute_error: 0.1084\n",
      "Epoch 48/60\n",
      "7/7 [==============================] - 0s 15ms/step - loss: 0.0181 - root_mean_squared_error: 0.1346 - mean_absolute_error: 0.1047\n",
      "Epoch 49/60\n",
      "7/7 [==============================] - 0s 16ms/step - loss: 0.0174 - root_mean_squared_error: 0.1319 - mean_absolute_error: 0.1019\n",
      "Epoch 50/60\n",
      "7/7 [==============================] - 0s 15ms/step - loss: 0.0195 - root_mean_squared_error: 0.1395 - mean_absolute_error: 0.1083\n",
      "Epoch 51/60\n",
      "7/7 [==============================] - 0s 15ms/step - loss: 0.0183 - root_mean_squared_error: 0.1354 - mean_absolute_error: 0.1048\n",
      "Epoch 52/60\n",
      "7/7 [==============================] - 0s 15ms/step - loss: 0.0200 - root_mean_squared_error: 0.1414 - mean_absolute_error: 0.1112\n",
      "Epoch 53/60\n",
      "7/7 [==============================] - 0s 16ms/step - loss: 0.0208 - root_mean_squared_error: 0.1442 - mean_absolute_error: 0.1129\n",
      "Epoch 54/60\n",
      "7/7 [==============================] - 0s 16ms/step - loss: 0.0201 - root_mean_squared_error: 0.1419 - mean_absolute_error: 0.1095\n",
      "Epoch 55/60\n",
      "7/7 [==============================] - 0s 20ms/step - loss: 0.0200 - root_mean_squared_error: 0.1413 - mean_absolute_error: 0.1099\n",
      "Epoch 56/60\n",
      "7/7 [==============================] - 0s 19ms/step - loss: 0.0179 - root_mean_squared_error: 0.1338 - mean_absolute_error: 0.1028\n",
      "Epoch 57/60\n",
      "7/7 [==============================] - 0s 16ms/step - loss: 0.0162 - root_mean_squared_error: 0.1274 - mean_absolute_error: 0.0997\n",
      "Epoch 58/60\n"
     ]
    },
    {
     "name": "stdout",
     "output_type": "stream",
     "text": [
      "7/7 [==============================] - 0s 17ms/step - loss: 0.0155 - root_mean_squared_error: 0.1244 - mean_absolute_error: 0.0950\n",
      "Epoch 59/60\n",
      "7/7 [==============================] - 0s 17ms/step - loss: 0.0146 - root_mean_squared_error: 0.1207 - mean_absolute_error: 0.0928\n",
      "Epoch 60/60\n",
      "7/7 [==============================] - 0s 18ms/step - loss: 0.0156 - root_mean_squared_error: 0.1247 - mean_absolute_error: 0.0965\n"
     ]
    },
    {
     "data": {
      "text/plain": [
       "<keras.callbacks.History at 0x7ff386ed8400>"
      ]
     },
     "execution_count": 59,
     "metadata": {},
     "output_type": "execute_result"
    }
   ],
   "source": [
    "mdl = rnn_model(params=params, input_shape=tr_len)\n",
    "mdl.fit(\n",
    "    x_train,\n",
    "    y_train,\n",
    "    #validation_data=(x_test, y_test),\n",
    "    epochs=params[\"epochs\"],\n",
    "    batch_size=params[\"batch_size\"],\n",
    "    verbose=1#,\n",
    "    #callbacks=[neptune_callback, es_callback]\n",
    ")\n",
    "\n"
   ]
  },
  {
   "cell_type": "code",
   "execution_count": 60,
   "id": "57fba03a",
   "metadata": {},
   "outputs": [
    {
     "data": {
      "text/plain": [
       "array([[1.1955949, 1.1364983, 1.1938225, 1.2700427, 1.2297664]],\n",
       "      dtype=float32)"
      ]
     },
     "execution_count": 60,
     "metadata": {},
     "output_type": "execute_result"
    },
    {
     "data": {
      "text/plain": [
       "array([[1.30505551, 1.39117004, 1.33167891, 1.43003918, 1.50278989]])"
      ]
     },
     "execution_count": 60,
     "metadata": {},
     "output_type": "execute_result"
    },
    {
     "data": {
      "text/plain": [
       "0.1870017521757325"
      ]
     },
     "execution_count": 60,
     "metadata": {},
     "output_type": "execute_result"
    }
   ],
   "source": [
    "y_pred = mdl.predict(x_test)\n",
    "y_pred\n",
    "y_true = y_test#.to_numpy()\n",
    "y_true\n",
    "rmse = mean_squared_error(y_pred, y_true, squared=False)\n",
    "rmse"
   ]
  },
  {
   "cell_type": "markdown",
   "id": "c46576f7",
   "metadata": {},
   "source": [
    "### For RNN, Training RMSE is 0.1247, Testing RMSE is 0.1870"
   ]
  },
  {
   "cell_type": "code",
   "execution_count": 61,
   "id": "d9cde16a",
   "metadata": {},
   "outputs": [
    {
     "data": {
      "text/plain": [
       "0.13280367888673655"
      ]
     },
     "execution_count": 61,
     "metadata": {},
     "output_type": "execute_result"
    }
   ],
   "source": [
    "# mape\n",
    "np.mean(np.abs((y_true - y_pred) / y_true))"
   ]
  },
  {
   "cell_type": "code",
   "execution_count": null,
   "id": "ec954174",
   "metadata": {},
   "outputs": [],
   "source": []
  }
 ],
 "metadata": {
  "kernelspec": {
   "display_name": "Python 3",
   "language": "python",
   "name": "python3"
  },
  "language_info": {
   "codemirror_mode": {
    "name": "ipython",
    "version": 3
   },
   "file_extension": ".py",
   "mimetype": "text/x-python",
   "name": "python",
   "nbconvert_exporter": "python",
   "pygments_lexer": "ipython3",
   "version": "3.8.8"
  }
 },
 "nbformat": 4,
 "nbformat_minor": 5
}
